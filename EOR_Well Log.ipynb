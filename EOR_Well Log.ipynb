{
 "cells": [
  {
   "cell_type": "code",
   "execution_count": 1,
   "id": "682562f3",
   "metadata": {},
   "outputs": [],
   "source": [
    "import lasio\n",
    "import pandas as pd\n",
    "import numpy as np\n",
    "from sklearn.model_selection import train_test_split\n",
    "from sklearn.preprocessing import StandardScaler\n",
    "from sklearn.ensemble import RandomForestClassifier\n",
    "from sklearn.metrics import accuracy_score, classification_report\n",
    "import matplotlib.pyplot as plt\n"
   ]
  },
  {
   "cell_type": "code",
   "execution_count": 2,
   "id": "ec2cc41d",
   "metadata": {},
   "outputs": [],
   "source": [
    "las = lasio.read(\"S-KNGM-GM-3_T_133820_0 (2).las\")  # Replace with your LAS file path\n",
    "df = las.df()\n"
   ]
  },
  {
   "cell_type": "code",
   "execution_count": 3,
   "id": "8669e207",
   "metadata": {},
   "outputs": [
    {
     "name": "stdout",
     "output_type": "stream",
     "text": [
      "Raw Data:\n",
      "                CALI  DT  GR  LLD  LLS  MSFL  NPHI  RHOB  SP\n",
      "BOREHOLE-DEPTH                                              \n",
      "15.0830          NaN NaN NaN  NaN  NaN   NaN   NaN   NaN NaN\n",
      "15.2354          NaN NaN NaN  NaN  NaN   NaN   NaN   NaN NaN\n",
      "15.3878          NaN NaN NaN  NaN  NaN   NaN   NaN   NaN NaN\n",
      "15.5402          NaN NaN NaN  NaN  NaN   NaN   NaN   NaN NaN\n",
      "15.6926          NaN NaN NaN  NaN  NaN   NaN   NaN   NaN NaN\n"
     ]
    }
   ],
   "source": [
    "print(\"Raw Data:\")\n",
    "print(df.head())"
   ]
  },
  {
   "cell_type": "code",
   "execution_count": 4,
   "id": "d3abec1b",
   "metadata": {},
   "outputs": [],
   "source": [
    "df = df.interpolate().dropna()"
   ]
  },
  {
   "cell_type": "code",
   "execution_count": 6,
   "id": "c36432ab",
   "metadata": {},
   "outputs": [],
   "source": [
    "scaler = StandardScaler()\n",
    "df_scaled = pd.DataFrame(scaler.fit_transform(df), columns=df.columns)"
   ]
  },
  {
   "cell_type": "code",
   "execution_count": 7,
   "id": "07b2f464",
   "metadata": {},
   "outputs": [
    {
     "name": "stdout",
     "output_type": "stream",
     "text": [
      "\n",
      "Processed Data:\n",
      "       CALI        DT        GR       LLD       LLS      MSFL      NPHI  \\\n",
      "0  1.714046 -2.162353 -0.968340 -0.011872 -0.263192 -0.065966  0.885806   \n",
      "1  1.779525 -2.210951 -0.892297 -0.012027 -0.274033 -0.065329  1.017350   \n",
      "2  1.963051 -2.259548 -0.882275 -0.012215 -0.286796 -0.067187  1.004101   \n",
      "3  2.136804 -2.308145 -0.911823 -0.012330 -0.293517 -0.068691  1.090219   \n",
      "4  2.330798 -2.356742 -0.924431 -0.012349 -0.291476 -0.067480  1.233119   \n",
      "\n",
      "        RHOB        SP  \n",
      "0 -10.420349  0.391139  \n",
      "1 -10.513271  0.391139  \n",
      "2 -10.522102  0.391139  \n",
      "3 -10.234890  0.391139  \n",
      "4  -9.781034  0.391139  \n"
     ]
    }
   ],
   "source": [
    "print(\"\\nProcessed Data:\")\n",
    "print(df_scaled.head())\n"
   ]
  },
  {
   "cell_type": "code",
   "execution_count": 8,
   "id": "3415c9c1",
   "metadata": {},
   "outputs": [],
   "source": [
    "df_scaled['GR_RHOB_ratio'] = df_scaled['GR'] / df_scaled['RHOB']\n"
   ]
  },
  {
   "cell_type": "code",
   "execution_count": 13,
   "id": "035c9041",
   "metadata": {},
   "outputs": [],
   "source": [
    "small_constant = 1e-10  # A small positive value\n",
    "df_scaled['log_RHOB'] = np.log(df_scaled['RHOB'] + small_constant)"
   ]
  },
  {
   "cell_type": "code",
   "execution_count": 14,
   "id": "fcbcf3f7",
   "metadata": {},
   "outputs": [
    {
     "name": "stdout",
     "output_type": "stream",
     "text": [
      "\n",
      "Enhanced Data with New Features:\n",
      "       CALI        DT        GR       LLD       LLS      MSFL      NPHI  \\\n",
      "0  1.714046 -2.162353 -0.968340 -0.011872 -0.263192 -0.065966  0.885806   \n",
      "1  1.779525 -2.210951 -0.892297 -0.012027 -0.274033 -0.065329  1.017350   \n",
      "2  1.963051 -2.259548 -0.882275 -0.012215 -0.286796 -0.067187  1.004101   \n",
      "3  2.136804 -2.308145 -0.911823 -0.012330 -0.293517 -0.068691  1.090219   \n",
      "4  2.330798 -2.356742 -0.924431 -0.012349 -0.291476 -0.067480  1.233119   \n",
      "\n",
      "        RHOB        SP  GR_RHOB_ratio  log_RHOB  \n",
      "0 -10.420349  0.391139       0.092928       NaN  \n",
      "1 -10.513271  0.391139       0.084873       NaN  \n",
      "2 -10.522102  0.391139       0.083850       NaN  \n",
      "3 -10.234890  0.391139       0.089090       NaN  \n",
      "4  -9.781034  0.391139       0.094513       NaN  \n"
     ]
    }
   ],
   "source": [
    "print(\"\\nEnhanced Data with New Features:\")\n",
    "print(df_scaled.head())"
   ]
  },
  {
   "cell_type": "code",
   "execution_count": 15,
   "id": "1939b417",
   "metadata": {},
   "outputs": [],
   "source": [
    "np.random.seed(42)\n",
    "df_scaled['EOR_Success'] = np.random.choice([0, 1], size=len(df_scaled))\n"
   ]
  },
  {
   "cell_type": "code",
   "execution_count": 16,
   "id": "74695924",
   "metadata": {},
   "outputs": [],
   "source": [
    "X = df_scaled.drop(columns=['EOR_Success'])  # Features\n",
    "y = df_scaled['EOR_Success']  # Target"
   ]
  },
  {
   "cell_type": "code",
   "execution_count": 20,
   "id": "be9df612",
   "metadata": {},
   "outputs": [
    {
     "data": {
      "text/html": [
       "<style>#sk-container-id-1 {color: black;}#sk-container-id-1 pre{padding: 0;}#sk-container-id-1 div.sk-toggleable {background-color: white;}#sk-container-id-1 label.sk-toggleable__label {cursor: pointer;display: block;width: 100%;margin-bottom: 0;padding: 0.3em;box-sizing: border-box;text-align: center;}#sk-container-id-1 label.sk-toggleable__label-arrow:before {content: \"▸\";float: left;margin-right: 0.25em;color: #696969;}#sk-container-id-1 label.sk-toggleable__label-arrow:hover:before {color: black;}#sk-container-id-1 div.sk-estimator:hover label.sk-toggleable__label-arrow:before {color: black;}#sk-container-id-1 div.sk-toggleable__content {max-height: 0;max-width: 0;overflow: hidden;text-align: left;background-color: #f0f8ff;}#sk-container-id-1 div.sk-toggleable__content pre {margin: 0.2em;color: black;border-radius: 0.25em;background-color: #f0f8ff;}#sk-container-id-1 input.sk-toggleable__control:checked~div.sk-toggleable__content {max-height: 200px;max-width: 100%;overflow: auto;}#sk-container-id-1 input.sk-toggleable__control:checked~label.sk-toggleable__label-arrow:before {content: \"▾\";}#sk-container-id-1 div.sk-estimator input.sk-toggleable__control:checked~label.sk-toggleable__label {background-color: #d4ebff;}#sk-container-id-1 div.sk-label input.sk-toggleable__control:checked~label.sk-toggleable__label {background-color: #d4ebff;}#sk-container-id-1 input.sk-hidden--visually {border: 0;clip: rect(1px 1px 1px 1px);clip: rect(1px, 1px, 1px, 1px);height: 1px;margin: -1px;overflow: hidden;padding: 0;position: absolute;width: 1px;}#sk-container-id-1 div.sk-estimator {font-family: monospace;background-color: #f0f8ff;border: 1px dotted black;border-radius: 0.25em;box-sizing: border-box;margin-bottom: 0.5em;}#sk-container-id-1 div.sk-estimator:hover {background-color: #d4ebff;}#sk-container-id-1 div.sk-parallel-item::after {content: \"\";width: 100%;border-bottom: 1px solid gray;flex-grow: 1;}#sk-container-id-1 div.sk-label:hover label.sk-toggleable__label {background-color: #d4ebff;}#sk-container-id-1 div.sk-serial::before {content: \"\";position: absolute;border-left: 1px solid gray;box-sizing: border-box;top: 0;bottom: 0;left: 50%;z-index: 0;}#sk-container-id-1 div.sk-serial {display: flex;flex-direction: column;align-items: center;background-color: white;padding-right: 0.2em;padding-left: 0.2em;position: relative;}#sk-container-id-1 div.sk-item {position: relative;z-index: 1;}#sk-container-id-1 div.sk-parallel {display: flex;align-items: stretch;justify-content: center;background-color: white;position: relative;}#sk-container-id-1 div.sk-item::before, #sk-container-id-1 div.sk-parallel-item::before {content: \"\";position: absolute;border-left: 1px solid gray;box-sizing: border-box;top: 0;bottom: 0;left: 50%;z-index: -1;}#sk-container-id-1 div.sk-parallel-item {display: flex;flex-direction: column;z-index: 1;position: relative;background-color: white;}#sk-container-id-1 div.sk-parallel-item:first-child::after {align-self: flex-end;width: 50%;}#sk-container-id-1 div.sk-parallel-item:last-child::after {align-self: flex-start;width: 50%;}#sk-container-id-1 div.sk-parallel-item:only-child::after {width: 0;}#sk-container-id-1 div.sk-dashed-wrapped {border: 1px dashed gray;margin: 0 0.4em 0.5em 0.4em;box-sizing: border-box;padding-bottom: 0.4em;background-color: white;}#sk-container-id-1 div.sk-label label {font-family: monospace;font-weight: bold;display: inline-block;line-height: 1.2em;}#sk-container-id-1 div.sk-label-container {text-align: center;}#sk-container-id-1 div.sk-container {/* jupyter's `normalize.less` sets `[hidden] { display: none; }` but bootstrap.min.css set `[hidden] { display: none !important; }` so we also need the `!important` here to be able to override the default hidden behavior on the sphinx rendered scikit-learn.org. See: https://github.com/scikit-learn/scikit-learn/issues/21755 */display: inline-block !important;position: relative;}#sk-container-id-1 div.sk-text-repr-fallback {display: none;}</style><div id=\"sk-container-id-1\" class=\"sk-top-container\"><div class=\"sk-text-repr-fallback\"><pre>RandomForestClassifier(random_state=42)</pre><b>In a Jupyter environment, please rerun this cell to show the HTML representation or trust the notebook. <br />On GitHub, the HTML representation is unable to render, please try loading this page with nbviewer.org.</b></div><div class=\"sk-container\" hidden><div class=\"sk-item\"><div class=\"sk-estimator sk-toggleable\"><input class=\"sk-toggleable__control sk-hidden--visually\" id=\"sk-estimator-id-1\" type=\"checkbox\" checked><label for=\"sk-estimator-id-1\" class=\"sk-toggleable__label sk-toggleable__label-arrow\">RandomForestClassifier</label><div class=\"sk-toggleable__content\"><pre>RandomForestClassifier(random_state=42)</pre></div></div></div></div></div>"
      ],
      "text/plain": [
       "RandomForestClassifier(random_state=42)"
      ]
     },
     "execution_count": 20,
     "metadata": {},
     "output_type": "execute_result"
    }
   ],
   "source": [
    "from sklearn.impute import SimpleImputer\n",
    "\n",
    "# Create an imputer object with a strategy\n",
    "imputer = SimpleImputer(strategy='mean')  # or 'median', 'most_frequent', etc.\n",
    "\n",
    "# Fit the imputer on the training data and transform both training and test data\n",
    "X_train_imputed = imputer.fit_transform(X_train)\n",
    "X_test_imputed = imputer.transform(X_test)\n",
    "\n",
    "# Now fit the model with the imputed data\n",
    "model = RandomForestClassifier(n_estimators=100, random_state=42)\n",
    "model.fit(X_train_imputed, y_train)"
   ]
  },
  {
   "cell_type": "code",
   "execution_count": 22,
   "id": "d7646e3c",
   "metadata": {},
   "outputs": [
    {
     "name": "stdout",
     "output_type": "stream",
     "text": [
      "\n",
      "Model Accuracy: 0.5035366931918656\n"
     ]
    }
   ],
   "source": [
    "from sklearn.ensemble import RandomForestClassifier\n",
    "from sklearn.metrics import accuracy_score\n",
    "from sklearn.model_selection import train_test_split\n",
    "from sklearn.impute import SimpleImputer\n",
    "from sklearn.pipeline import Pipeline\n",
    "\n",
    "# Example data (Replace with your actual data)\n",
    "# X = feature matrix\n",
    "# y = target vector\n",
    "\n",
    "# Split the data into training and testing sets\n",
    "X_train, X_test, y_train, y_test = train_test_split(X, y, test_size=0.2, random_state=42)\n",
    "\n",
    "# Create a pipeline with imputation and classification\n",
    "pipeline = Pipeline([\n",
    "    ('imputer', SimpleImputer(strategy='mean')),  # Handle missing values\n",
    "    ('classifier', RandomForestClassifier(n_estimators=100, random_state=42))  # Train the model\n",
    "])\n",
    "\n",
    "# Fit the pipeline on the training data\n",
    "pipeline.fit(X_train, y_train)\n",
    "\n",
    "# Predict on the test set\n",
    "y_pred = pipeline.predict(X_test)\n",
    "\n",
    "# Calculate accuracy\n",
    "accuracy = accuracy_score(y_test, y_pred)\n",
    "\n",
    "# Print the accuracy\n",
    "print(f\"\\nModel Accuracy: {accuracy}\")"
   ]
  },
  {
   "cell_type": "code",
   "execution_count": 23,
   "id": "7cf0a8ee",
   "metadata": {},
   "outputs": [
    {
     "name": "stdout",
     "output_type": "stream",
     "text": [
      "\n",
      "Classification Report:\n",
      "              precision    recall  f1-score   support\n",
      "\n",
      "           0       0.49      0.52      0.51      1106\n",
      "           1       0.52      0.49      0.50      1156\n",
      "\n",
      "    accuracy                           0.50      2262\n",
      "   macro avg       0.50      0.50      0.50      2262\n",
      "weighted avg       0.50      0.50      0.50      2262\n",
      "\n"
     ]
    }
   ],
   "source": [
    "print(\"\\nClassification Report:\")\n",
    "print(classification_report(y_test, y_pred))\n"
   ]
  },
  {
   "cell_type": "code",
   "execution_count": 24,
   "id": "952f4ab3",
   "metadata": {},
   "outputs": [
    {
     "data": {
      "image/png": "[encoded data removed]",
      "text/plain": [
       "<Figure size 1000x600 with 1 Axes>"
      ]
     },
     "metadata": {},
     "output_type": "display_data"
    }
   ],
   "source": [
    "importance = model.feature_importances_\n",
    "plt.figure(figsize=(10, 6))\n",
    "plt.barh(X.columns, importance)\n",
    "plt.xlabel('Feature Importance')\n",
    "plt.ylabel('Features')\n",
    "plt.title('Feature Importance for EOR Prediction')\n",
    "plt.show()"
   ]
  },
  {
   "cell_type": "code",
   "execution_count": 25,
   "id": "a59906ed",
   "metadata": {},
   "outputs": [
    {
     "data": {
      "image/png": "[encoded data removed]",
      "text/plain": [
       "<Figure size 640x480 with 2 Axes>"
      ]
     },
     "metadata": {},
     "output_type": "display_data"
    }
   ],
   "source": [
    "from sklearn.metrics import confusion_matrix, ConfusionMatrixDisplay\n",
    "\n",
    "# Compute confusion matrix\n",
    "cm = confusion_matrix(y_test, y_pred)\n",
    "\n",
    "# Display confusion matrix\n",
    "disp = ConfusionMatrixDisplay(confusion_matrix=cm, display_labels=model.classes_)\n",
    "disp.plot(cmap=plt.cm.Blues)\n",
    "plt.show()"
   ]
  },
  {
   "cell_type": "code",
   "execution_count": 27,
   "id": "ea15c84c",
   "metadata": {},
   "outputs": [
    {
     "name": "stdout",
     "output_type": "stream",
     "text": [
      "\n",
      "Reduced Model Accuracy: 0.4964633068081344\n"
     ]
    }
   ],
   "source": [
    "from sklearn.impute import SimpleImputer\n",
    "from sklearn.feature_selection import SelectFromModel\n",
    "from sklearn.ensemble import RandomForestClassifier\n",
    "from sklearn.metrics import accuracy_score\n",
    "from sklearn.model_selection import train_test_split\n",
    "from sklearn.pipeline import Pipeline\n",
    "\n",
    "# Example data (Replace with your actual data)\n",
    "# X = feature matrix\n",
    "# y = target vector\n",
    "\n",
    "# Split the data into training and testing sets\n",
    "X_train, X_test, y_train, y_test = train_test_split(X, y, test_size=0.2, random_state=42)\n",
    "\n",
    "# Create a pipeline with imputation and feature selection\n",
    "pipeline = Pipeline([\n",
    "    ('imputer', SimpleImputer(strategy='mean')),  # Handle missing values\n",
    "    ('feature_selection', SelectFromModel(RandomForestClassifier(n_estimators=100, random_state=42), threshold=\"mean\")),  # Feature selection\n",
    "    ('classifier', RandomForestClassifier(n_estimators=100, random_state=42))  # Train the model\n",
    "])\n",
    "\n",
    "# Fit the pipeline on the training data\n",
    "pipeline.fit(X_train, y_train)\n",
    "\n",
    "# Transform the test data\n",
    "X_test_reduced = pipeline.named_steps['feature_selection'].transform(pipeline.named_steps['imputer'].transform(X_test))\n",
    "\n",
    "# Predict on the test set\n",
    "y_pred_reduced = pipeline.named_steps['classifier'].predict(X_test_reduced)\n",
    "\n",
    "# Calculate accuracy\n",
    "accuracy_reduced = accuracy_score(y_test, y_pred_reduced)\n",
    "print(f\"\\nReduced Model Accuracy: {accuracy_reduced}\")"
   ]
  },
  {
   "cell_type": "code",
   "execution_count": 29,
   "id": "612838bf",
   "metadata": {},
   "outputs": [
    {
     "name": "stdout",
     "output_type": "stream",
     "text": [
      "Best parameters found:  {'classifier__max_depth': None, 'classifier__n_estimators': 200}\n",
      "Best accuracy found:  0.49938985245656314\n",
      "\n",
      "Reduced Model Accuracy: 0.4964633068081344\n"
     ]
    }
   ],
   "source": [
    "from sklearn.impute import SimpleImputer\n",
    "from sklearn.model_selection import GridSearchCV\n",
    "from sklearn.ensemble import RandomForestClassifier\n",
    "from sklearn.pipeline import Pipeline\n",
    "from sklearn.metrics import accuracy_score\n",
    "\n",
    "# Example data (Replace with your actual data)\n",
    "# X = feature matrix\n",
    "# y = target vector\n",
    "\n",
    "# Split the data into training and testing sets\n",
    "X_train, X_test, y_train, y_test = train_test_split(X, y, test_size=0.2, random_state=42)\n",
    "\n",
    "# Define parameter grid\n",
    "param_grid = {\n",
    "    'classifier__n_estimators': [50, 100, 200],\n",
    "    'classifier__max_depth': [None, 10, 20, 30],\n",
    "}\n",
    "\n",
    "# Create a pipeline with imputation and RandomForestClassifier\n",
    "pipeline = Pipeline([\n",
    "    ('imputer', SimpleImputer(strategy='mean')),  # Handle missing values\n",
    "    ('classifier', RandomForestClassifier(random_state=42))  # Random Forest model\n",
    "])\n",
    "\n",
    "# Create GridSearchCV object\n",
    "grid_search = GridSearchCV(estimator=pipeline, param_grid=param_grid, cv=5, scoring='accuracy')\n",
    "\n",
    "# Fit grid search\n",
    "grid_search.fit(X_train, y_train)\n",
    "\n",
    "# Best parameters and score\n",
    "print(\"Best parameters found: \", grid_search.best_params_)\n",
    "print(\"Best accuracy found: \", grid_search.best_score_)\n",
    "\n",
    "# Test the best model\n",
    "best_model = grid_search.best_estimator_\n",
    "y_pred_reduced = best_model.predict(X_test)\n",
    "accuracy_reduced = accuracy_score(y_test, y_pred_reduced)\n",
    "print(f\"\\nReduced Model Accuracy: {accuracy_reduced}\")\n"
   ]
  },
  {
   "cell_type": "code",
   "execution_count": null,
   "id": "02ac5c8b",
   "metadata": {},
   "outputs": [],
   "source": []
  }
 ],
 "metadata": {
  "kernelspec": {
   "display_name": "Python 3 (ipykernel)",
   "language": "python",
   "name": "python3"
  },
  "language_info": {
   "codemirror_mode": {
    "name": "ipython",
    "version": 3
   },
   "file_extension": ".py",
   "mimetype": "text/x-python",
   "name": "python",
   "nbconvert_exporter": "python",
   "pygments_lexer": "ipython3",
   "version": "3.11.4"
  }
 },
 "nbformat": 4,
 "nbformat_minor": 5
}
